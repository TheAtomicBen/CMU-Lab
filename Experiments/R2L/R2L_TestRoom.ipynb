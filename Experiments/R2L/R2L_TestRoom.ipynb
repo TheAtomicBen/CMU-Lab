{
 "cells": [
  {
   "cell_type": "code",
   "execution_count": 2,
   "metadata": {},
   "outputs": [],
   "source": [
    "import sys\n",
    "import os\n",
    "\n",
    "import pandas as pd\n",
    "import numpy as np\n",
    "\n",
    "from itertools import izip\n",
    "# from matplotlib import pyplot as plt\n",
    "import matplotlib\n",
    "import matplotlib.pyplot as plt\n",
    "\n",
    "mainDir = '/Users/benjaminlibman/Google Drive/Academics/CMU/Lab/Research/R2L/Data/'\n",
    "Raw = mainDir + 'Raw/'\n",
    "RF = mainDir + 'RF/'\n",
    "Sums = mainDir + 'Sums/'\n",
    "\n",
    "data = RF + 'BA1650092317.csv'"
   ]
  },
  {
   "cell_type": "code",
   "execution_count": 3,
   "metadata": {
    "collapsed": true
   },
   "outputs": [],
   "source": [
    "dset = pd.read_csv(data, index_col=None, header=0)\n",
    "dset = dset.rename(columns={'UserID': 'UID','Current State': 'curr_state','Transition State': 'next_state','Transition Event': 'tx_event'})\n",
    "dset = dset.rename(columns={'A1 -': 'left_on','A2 -': 'right_on','A[1]': 'left_off','A[2]': 'right_off'})\n",
    "        \n",
    "dset.Time = (dset.Time/50)\n",
    "\n",
    "time = dset.Time.iloc[-1]"
   ]
  },
  {
   "cell_type": "code",
   "execution_count": 4,
   "metadata": {},
   "outputs": [
    {
     "data": {
      "text/plain": [
       "1"
      ]
     },
     "execution_count": 4,
     "metadata": {},
     "output_type": "execute_result"
    }
   ],
   "source": [
    "len(dset['curr_state'][dset['curr_state'] == 9][dset['next_state'] == 10])\n",
    "len(dset['curr_state'][dset['curr_state'] == 9][dset['next_state'] == -1])\n",
    "len(dset['curr_state'][dset['curr_state'] == 9][dset['next_state'] == -1])"
   ]
  },
  {
   "cell_type": "code",
   "execution_count": 5,
   "metadata": {},
   "outputs": [
    {
     "data": {
      "text/plain": [
       "Index([u'Subject', u'UID', u'Protocol', u'Run', u'Time', u'curr_state',\n",
       "       u'next_state', u'tx_event', u'A1 - ', u'A2 - ', u'A[1] ', u'A[2] '],\n",
       "      dtype='object')"
      ]
     },
     "execution_count": 5,
     "metadata": {},
     "output_type": "execute_result"
    }
   ],
   "source": [
    "dset.columns"
   ]
  },
  {
   "cell_type": "code",
   "execution_count": null,
   "metadata": {
    "collapsed": true
   },
   "outputs": [],
   "source": [
    "from __future__ import division\n",
    "\n",
    "import os\n",
    "import platform\n",
    "import csv\n",
    "import glob\n",
    "\n",
    "import numpy as np\n",
    "import pandas as pd\n",
    "\n",
    "#============================================Main Var Defs============================================\n",
    "if platform.system() == \"Windows\":\n",
    "    mainDir = 'C:\\\\Users\\\\libma1bm\\\\Google Drive\\\\Academics\\\\CMU\\\\Lab\\\\Research\\\\R2LData\\\\'\n",
    "    Raw = mainDir + 'Raw\\\\'\n",
    "    RF = mainDir + 'RF\\\\'\n",
    "    Sums = mainDir + 'Sums\\\\'\n",
    "elif platform.system() == \"Darwin\":\n",
    "    mainDir = '/Users/benjaminlibman/Google Drive/Academics/CMU/Lab/Research/R2L/Data/'\n",
    "    Raw = mainDir + 'Raw/'\n",
    "    RF = mainDir + 'RF/'\n",
    "    Sums = mainDir + 'Sums/'\n",
    "\n",
    "header = ['Project', 'UserID', 'Protocol', 'Session', 'Station', 'Run', 'Subject', 'Time', 'Current State', 'Transition State', 'Transition Event', 'A1 -' ,'A2 -', 'A3 -' ,'A4 -', 'A[1]', 'A[2]', 'A[3]' ,'A[4]']\n",
    "outHeader = ['Subject', 'UserID', 'Protocol', 'Run', 'Time', 'Current State', 'Transition State', 'Transition Event', 'A1 -' ,'A2 -', 'A[1]', 'A[2]']\n",
    "newHead = ['Subject', 'UID', 'Protocol', 'Run', 'Time', 'curr_state','next_state','tx_event','l_lev_on','r_lev_on','l_lev_off','r_lev_off']\n",
    "\n",
    "colnames = ['date', 'Subject', 'UID', 'Protocol',\n",
    "            'run', 'time',\n",
    "            'totalResps', 'rightResps', 'leftResps',\n",
    "            'totalRate', 'leftRate', 'rightRate',\n",
    "            'total_incorrect', 'left_incorrect', 'right_incorrect',\n",
    "            'prop_lc', 'prop_rc',\n",
    "            'RR_prp', 'RL_prp', 'LR_prp', 'LL_prp'] #, 'Lean_durr', 'Rich_durr', 'Lean_irt', 'Rich_irt']\n",
    "\n",
    "files = []\n",
    "rats = []\n",
    "dates = []\n",
    "\n",
    "# def summarize(inname, inpath, outpath):\n",
    "#     Subject, date, UID, Protocol = [], [], [], []\n",
    "#     time, run = [], []\n",
    "#     totalResps, leftResps, rightResps = [], [], []\n",
    "#     totalRate, rightRate, leftRate = [], [], []\n",
    "#     total_incorrect, left_incorrect, right_incorrect = [], [], []\n",
    "#     prop_lc, prop_rc = [], []\n",
    "#     RR_prp,  RL_prp,  LR_prp,  LL_prp = [], [], [], []\n",
    "\n",
    "#     oldSum = pd.read_csv(outpath, sep=',', header=0, index_col=False)\n",
    "#     oldSumdates = ['0' + str(i) for i in oldSum.date]   \n",
    "\n",
    "#     newDate = []\n",
    "\n",
    "#     for fname in glob.glob(inpath + inname + '*'):\n",
    "#         if fname[-10:-4] not in oldSumdates:\n",
    "#             newDate.append(fname[-10:-4])\n",
    "\n",
    "#     run_ = 0\n",
    "#     for nd in newDate:\n",
    "#         for fname in glob.glob(inpath + inname + nd + '*'):\n",
    "#             # print fname[-16:]\n",
    "run_ = 0\n",
    "run_ += 1\n",
    "dset = pd.read_csv(RF + 'BA1653092417.csv', sep=',', names=outHeader, header=0, index_col=False)\n",
    "dset = dset.rename(columns={\n",
    "        'UserID': 'UID',\n",
    "        'Current State': 'curr_state',\n",
    "        'Transition State': 'next_state',\n",
    "        'Transition Event': 'tx_event',\n",
    "        'A1 -': 'left_on',\n",
    "        'A2 -': 'right_on',\n",
    "        'A[1]': 'left_off',\n",
    "        'A[2]': 'right_off'})\n",
    "\n",
    "dset2 = pd.DataFrame(columns=colnames)\n",
    "\n",
    "dset['Time'] = dset['Time']/50\n",
    "\n",
    "left_on = dset.Time[dset.left_on == 1]\n",
    "left_off = dset.Time[dset.left_off == 1]\n",
    "right_on = dset.Time[dset.right_on == 1]\n",
    "right_off = dset.Time[dset.right_off == 1]\n",
    "\n",
    "Subject_ = str(inname)\n",
    "date_ = fname[-10:-4]\n",
    "time_ = dset.Time.iloc[-1]\n",
    "\n",
    "leftResps_ = len(left_on) + len(left_off)\n",
    "rightResps_ = len(right_on) + len(right_off)\n",
    "totalResps_ = leftResps_ + rightResps_\n",
    "\n",
    "left_incorrect_ = sum(dset.left_on[(dset.curr_state == 6)|(dset.curr_state == 7)&(dset.left_on == 1)])\n",
    "right_incorrect_ = sum(dset.right_on[(dset.curr_state == 3)|(dset.curr_state == 4)&(dset.right_on == 1)])\n",
    "total_incorrect_ = left_incorrect_ + right_incorrect_\n",
    "\n",
    "left_correct_ = sum(dset.left_on[(dset.curr_state == 3)|(dset.curr_state == 4)&(dset.left_on == 1)])\n",
    "right_correct_ = sum(dset.right_on[(dset.curr_state == 6)|(dset.curr_state == 7)&(dset.right_on == 1)])\n",
    "total_correct_ = left_correct_ + right_correct_\n",
    "\n",
    "totalRate_ = np.round(totalResps_/(time_/60), 3)\n",
    "leftRate_ = np.round(leftResps_/(time_/60), 3)\n",
    "rightRate_ = np.round(rightResps_/(time_/60), 3)\n",
    "\n",
    "totalRate_ = np.round(totalResps_/(time_/60), 3)\n",
    "leftRate_ = np.round(leftResps_/(time_/60), 3)\n",
    "rightRate_ = np.round(rightResps_/(time_/60), 3)\n",
    "\n",
    "prop_lc_ = np.round(left_incorrect_/totalResps_, 3)\n",
    "prop_rc_ = np.round(right_incorrect_/totalResps_, 3)\n",
    "\n",
    "L_prp_ = np.mean([(k - i) for i, j, k, l in zip(dset.Time, dset.curr_state, dset.Time.shift(-1), dset.curr_state.shift(-1)) if j == 2 and l == 3])\n",
    "R_prp_ = np.mean([(k - i) for i, j, k, l in zip(dset.Time, dset.curr_state, dset.Time.shift(-1), dset.curr_state.shift(-1)) if j == 2 and l == 6])\n",
    "LR_prp_ = np.mean([(k - i) for i, j, k, l in zip(dset.Time, dset.curr_state, dset.Time.shift(-1), dset.curr_state.shift(-1)) if j == 2 and l == )])\n",
    "LL_prp_ = np.mean([(k - i) for i, j, k, l in zip(dset.Time, dset.curr_state, dset.Time.shift(-1), dset.curr_state.shift(-1)) if j == 2 and l == )])\n",
    "\n",
    "print round(L_prp_, 3), round(R_prp_, 3)#, LR_prp_, LL_prp_\n",
    "\n",
    "for rat in set(rats):\n",
    "    summarize(rat, RF, Sums + rat + '_sums.csv')\n",
    "\n",
    "print zip(dset.curr_state, dset.curr_state.shift(-1))\n",
    "\n",
    "for i, j, k, l in zip(dset.Time, dset.curr_state, dset.Time.shift(-1), dset.curr_state.shift(-1)):\n",
    "    print i, '\\t', j, '\\t', k,\n",
    "\n",
    "dset[dset.curr_state == 2][dset.curr_state.shift(-1) == 3]\n",
    "\n",
    "[(j - i) for i, j in zip(dset.Time[dset.curr_state], dset.Time[dset.curr_state.shift(-1)]) if j == 2 and i == 3]\n",
    "\n",
    "print dset.Time[dset.curr_state], dset.Time[dset.curr_state.shift(-1)]\n",
    "\n",
    "len(dset[(dset.curr_state == 3)|(dset.curr_state == 2)][dset.left_on == 1])\n",
    "len(dset[(dset.curr_state == 6)|(dset.curr_state == 2)][dset.right_on == 1])"
   ]
  }
 ],
 "metadata": {
  "kernelspec": {
   "display_name": "Python 2",
   "language": "python",
   "name": "python2"
  },
  "language_info": {
   "codemirror_mode": {
    "name": "ipython",
    "version": 2
   },
   "file_extension": ".py",
   "mimetype": "text/x-python",
   "name": "python",
   "nbconvert_exporter": "python",
   "pygments_lexer": "ipython2",
   "version": "2.7.10"
  }
 },
 "nbformat": 4,
 "nbformat_minor": 2
}
