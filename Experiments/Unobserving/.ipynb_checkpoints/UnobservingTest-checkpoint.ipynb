{
 "cells": [
  {
   "cell_type": "code",
   "execution_count": 1,
   "metadata": {},
   "outputs": [
    {
     "name": "stdout",
     "output_type": "stream",
     "text": [
      "Populating the interactive namespace from numpy and matplotlib\n"
     ]
    }
   ],
   "source": [
    "%pylab inline"
   ]
  },
  {
   "cell_type": "code",
   "execution_count": 14,
   "metadata": {},
   "outputs": [],
   "source": [
    "from __future__ import division\n",
    "\n",
    "import os\n",
    "import platform\n",
    "import csv\n",
    "import glob\n",
    "\n",
    "import numpy as np\n",
    "import pandas as pd\n",
    "\n",
    "import matplotlib.pyplot as plt"
   ]
  },
  {
   "cell_type": "code",
   "execution_count": 20,
   "metadata": {},
   "outputs": [],
   "source": [
    "\n",
    "'''\n",
    "100 - BO Left\n",
    "110 - BO Right\n",
    "120 - FR Left\n",
    "130 - FR Right\n",
    "200 - Pellet\n",
    "300 - Start FR\n",
    "400 - Start BO\n",
    "410 - End BO\n",
    "'''\n",
    "ba1655 = '/Users/benjaminlibman/Google Drive/Academics/CMU/Lab/Research/Unobserving/Data/RF/BA1657.csv'"
   ]
  },
  {
   "cell_type": "code",
   "execution_count": 50,
   "metadata": {},
   "outputs": [
    {
     "ename": "IndexError",
     "evalue": "list assignment index out of range",
     "output_type": "error",
     "traceback": [
      "\u001b[0;31m\u001b[0m",
      "\u001b[0;31mIndexError\u001b[0mTraceback (most recent call last)",
      "\u001b[0;32m<ipython-input-50-e604e45201d1>\u001b[0m in \u001b[0;36m<module>\u001b[0;34m()\u001b[0m\n\u001b[1;32m     48\u001b[0m     \u001b[0;32mprint\u001b[0m \u001b[0msumed\u001b[0m\u001b[0;34m.\u001b[0m\u001b[0mhead\u001b[0m\u001b[0;34m(\u001b[0m\u001b[0;34m)\u001b[0m\u001b[0;34m\u001b[0m\u001b[0m\n\u001b[1;32m     49\u001b[0m \u001b[0;34m\u001b[0m\u001b[0m\n\u001b[0;32m---> 50\u001b[0;31m \u001b[0msummary\u001b[0m\u001b[0;34m(\u001b[0m\u001b[0;36m19\u001b[0m\u001b[0;34m)\u001b[0m\u001b[0;34m\u001b[0m\u001b[0m\n\u001b[0m\u001b[1;32m     51\u001b[0m \u001b[0;34m\u001b[0m\u001b[0m\n\u001b[1;32m     52\u001b[0m \u001b[0;31m#     sumed.to_csv('/Users/benjaminlibman/Google Drive/Academics/CMU/Lab/Research/Unobserving/Data/RF/BA1657Sum.csv', index=None, sep=',')\u001b[0m\u001b[0;34m\u001b[0m\u001b[0;34m\u001b[0m\u001b[0m\n",
      "\u001b[0;32m<ipython-input-50-e604e45201d1>\u001b[0m in \u001b[0;36msummary\u001b[0;34m(session)\u001b[0m\n\u001b[1;32m      7\u001b[0m \u001b[0;34m\u001b[0m\u001b[0m\n\u001b[1;32m      8\u001b[0m     \u001b[0mfrr_irt_\u001b[0m \u001b[0;34m=\u001b[0m \u001b[0;34m[\u001b[0m\u001b[0mround\u001b[0m\u001b[0;34m(\u001b[0m\u001b[0mi\u001b[0m\u001b[0;34m-\u001b[0m\u001b[0mj\u001b[0m\u001b[0;34m,\u001b[0m \u001b[0;36m3\u001b[0m\u001b[0;34m)\u001b[0m \u001b[0;32mfor\u001b[0m \u001b[0mi\u001b[0m\u001b[0;34m,\u001b[0m \u001b[0mj\u001b[0m \u001b[0;32min\u001b[0m \u001b[0mzip\u001b[0m\u001b[0;34m(\u001b[0m\u001b[0mdata\u001b[0m\u001b[0;34m.\u001b[0m\u001b[0mtime\u001b[0m\u001b[0;34m[\u001b[0m\u001b[0mdata\u001b[0m\u001b[0;34m.\u001b[0m\u001b[0mevent\u001b[0m \u001b[0;34m==\u001b[0m \u001b[0;36m120\u001b[0m\u001b[0;34m]\u001b[0m\u001b[0;34m,\u001b[0m \u001b[0mdata\u001b[0m\u001b[0;34m.\u001b[0m\u001b[0mtime\u001b[0m\u001b[0;34m[\u001b[0m\u001b[0mdata\u001b[0m\u001b[0;34m.\u001b[0m\u001b[0mevent\u001b[0m \u001b[0;34m==\u001b[0m \u001b[0;36m120\u001b[0m\u001b[0;34m]\u001b[0m\u001b[0;34m.\u001b[0m\u001b[0mshift\u001b[0m\u001b[0;34m(\u001b[0m\u001b[0;34m)\u001b[0m\u001b[0;34m)\u001b[0m\u001b[0;34m]\u001b[0m\u001b[0;34m\u001b[0m\u001b[0m\n\u001b[0;32m----> 9\u001b[0;31m     \u001b[0mfrr_irt_\u001b[0m\u001b[0;34m[\u001b[0m\u001b[0;36m0\u001b[0m\u001b[0;34m]\u001b[0m \u001b[0;34m=\u001b[0m \u001b[0;36m0\u001b[0m\u001b[0;34m\u001b[0m\u001b[0m\n\u001b[0m\u001b[1;32m     10\u001b[0m \u001b[0;34m\u001b[0m\u001b[0m\n\u001b[1;32m     11\u001b[0m     \u001b[0muor_irt_\u001b[0m \u001b[0;34m=\u001b[0m \u001b[0;34m[\u001b[0m\u001b[0mround\u001b[0m\u001b[0;34m(\u001b[0m\u001b[0mi\u001b[0m\u001b[0;34m-\u001b[0m\u001b[0mj\u001b[0m\u001b[0;34m,\u001b[0m \u001b[0;36m3\u001b[0m\u001b[0;34m)\u001b[0m \u001b[0;32mfor\u001b[0m \u001b[0mi\u001b[0m\u001b[0;34m,\u001b[0m \u001b[0mj\u001b[0m \u001b[0;32min\u001b[0m \u001b[0mzip\u001b[0m\u001b[0;34m(\u001b[0m\u001b[0mdata\u001b[0m\u001b[0;34m.\u001b[0m\u001b[0mtime\u001b[0m\u001b[0;34m[\u001b[0m\u001b[0mdata\u001b[0m\u001b[0;34m.\u001b[0m\u001b[0mevent\u001b[0m \u001b[0;34m==\u001b[0m \u001b[0;36m110\u001b[0m\u001b[0;34m]\u001b[0m\u001b[0;34m,\u001b[0m \u001b[0mdata\u001b[0m\u001b[0;34m.\u001b[0m\u001b[0mtime\u001b[0m\u001b[0;34m[\u001b[0m\u001b[0mdata\u001b[0m\u001b[0;34m.\u001b[0m\u001b[0mevent\u001b[0m \u001b[0;34m==\u001b[0m \u001b[0;36m110\u001b[0m\u001b[0;34m]\u001b[0m\u001b[0;34m.\u001b[0m\u001b[0mshift\u001b[0m\u001b[0;34m(\u001b[0m\u001b[0;34m)\u001b[0m\u001b[0;34m)\u001b[0m\u001b[0;34m]\u001b[0m\u001b[0;34m\u001b[0m\u001b[0m\n",
      "\u001b[0;31mIndexError\u001b[0m: list assignment index out of range"
     ]
    }
   ],
   "source": [
    "# colnames = 'fr', 'pellets', 'frr_irt', 'uor_irt', 'uol_irt', 'fr_resps', 'uo_resps', 'resps', 'r_SR', 'frr_rate'\n",
    "dset = pd.read_csv(ba1655, sep=',', header=0, index_col=None)\n",
    "sumed = pd.DataFrame()\n",
    "def summary(session):\n",
    "    data = dset[dset.runnum == session]#int('{}'.format(run))\n",
    "    # print data.head(3)\n",
    "\n",
    "    frr_irt_ = [round(i-j, 3) for i, j in zip(data.time[data.event == 120], data.time[data.event == 120].shift())]\n",
    "    frr_irt_[0] = 0\n",
    "\n",
    "    uor_irt_ = [round(i-j, 3) for i, j in zip(data.time[data.event == 110], data.time[data.event == 110].shift())]\n",
    "    if len(uor_irt_) == 0:\n",
    "        uor_irt_ = [0]\n",
    "    else:\n",
    "        uor_irt_[0] = 0\n",
    "\n",
    "    uol_irt_ = [round(i-j, 3) for i, j in zip(data.time[data.bolpointer > 0], data.time[data.bolpointer > 0].shift())]\n",
    "    if len(uol_irt_) == 0:\n",
    "        uol_irt_ = [0]\n",
    "    else:\n",
    "        uol_irt_[0] = 0\n",
    "\n",
    "    fr = data.ratio.iloc[1]\n",
    "    pellets = len(data[data.event == 200])+1\n",
    "\n",
    "    frr_irt = round(np.mean(frr_irt_), 3)\n",
    "    uor_irt = round(np.mean(uor_irt_), 3)\n",
    "    uol_irt = round(np.mean(uol_irt_), 3)\n",
    "    fr_resps = len(frr_irt_)\n",
    "    uo_resps = len(uor_irt_)-1 + len(uol_irt_)\n",
    "    resps = fr_resps + uo_resps\n",
    "    r_SR = resps/pellets\n",
    "    frr_rate = round(resps/sum(frr_irt_), 3)\n",
    "\n",
    "    sumed = sumed.assign(fr=fr)   #<--------- Set the new FR Right responses array without warnings\n",
    "    print sumed.fr\n",
    "    sumed = sumed.assign(pellets=pellets)\n",
    "    sumed = sumed.assign(frr_irt=frr_irt)\n",
    "    sumed = sumed.assign(uor_irt=uor_irt)\n",
    "    sumed = sumed.assign(uol_irt=uol_irt)\n",
    "    sumed = sumed.assign(fr_resps=fr_resps)\n",
    "    sumed = sumed.assign(uo_resps=uo_resps)\n",
    "    sumed = sumed.assign(resps=resps)\n",
    "    sumed = sumed.assign(r_SR=r_SR)\n",
    "    sumed = sumed.assign(frr_rate=frr_rate)\n",
    "\n",
    "    sumed = sumed[['fr', 'pellets', 'frr_irt', 'uor_irt', 'uol_irt', 'fr_resps', 'uo_resps', 'resps', 'r_SR', 'frr_rate']]\n",
    "    print sumed.head()\n",
    "\n",
    "summary(19)\n",
    "\n",
    "#     sumed.to_csv('/Users/benjaminlibman/Google Drive/Academics/CMU/Lab/Research/Unobserving/Data/RF/BA1657Sum.csv', index=None, sep=',')\n",
    "\n",
    "    \n",
    "    \n",
    "#     print fr, '\\t|', pellets, '\\t|', frr_irt, '\\t|',  uor_irt, '\\t|', uol_irt, '\\t|',  fr_resps, '\\t|',  uo_resps, '\\t|',  resps, '\\t|',  r_SR, '\\t|',  frr_rate\n",
    "    "
   ]
  },
  {
   "cell_type": "code",
   "execution_count": null,
   "metadata": {},
   "outputs": [],
   "source": []
  },
  {
   "cell_type": "code",
   "execution_count": 42,
   "metadata": {},
   "outputs": [],
   "source": []
  },
  {
   "cell_type": "code",
   "execution_count": 43,
   "metadata": {},
   "outputs": [],
   "source": []
  },
  {
   "cell_type": "code",
   "execution_count": 44,
   "metadata": {},
   "outputs": [
    {
     "name": "stdout",
     "output_type": "stream",
     "text": [
      "0.574 | 0.0 | 3750 | 0 | 3750 | 50.0 | 1.743\n"
     ]
    }
   ],
   "source": [
    "print frr_irt, '|', uor_irt, '|',  fr_resps, '|',  uo_resps, '|',  resps,  '|', r_SR, '|', frr_rate"
   ]
  },
  {
   "cell_type": "code",
   "execution_count": 45,
   "metadata": {},
   "outputs": [
    {
     "data": {
      "text/plain": [
       "{120, 200, 300}"
      ]
     },
     "execution_count": 45,
     "metadata": {},
     "output_type": "execute_result"
    }
   ],
   "source": [
    "set(data.event)"
   ]
  },
  {
   "cell_type": "code",
   "execution_count": 46,
   "metadata": {},
   "outputs": [
    {
     "data": {
      "text/plain": [
       "50.0"
      ]
     },
     "execution_count": 46,
     "metadata": {},
     "output_type": "execute_result"
    }
   ],
   "source": [
    "(resps)/pellets"
   ]
  },
  {
   "cell_type": "code",
   "execution_count": 47,
   "metadata": {},
   "outputs": [
    {
     "data": {
      "text/plain": [
       "1.7421602787456447"
      ]
     },
     "execution_count": 47,
     "metadata": {},
     "output_type": "execute_result"
    }
   ],
   "source": [
    "1/frr_irt"
   ]
  },
  {
   "cell_type": "code",
   "execution_count": null,
   "metadata": {},
   "outputs": [],
   "source": []
  },
  {
   "cell_type": "code",
   "execution_count": null,
   "metadata": {},
   "outputs": [],
   "source": []
  }
 ],
 "metadata": {
  "kernelspec": {
   "display_name": "Python 2",
   "language": "python",
   "name": "python2"
  },
  "language_info": {
   "codemirror_mode": {
    "name": "ipython",
    "version": 2
   },
   "file_extension": ".py",
   "mimetype": "text/x-python",
   "name": "python",
   "nbconvert_exporter": "python",
   "pygments_lexer": "ipython2",
   "version": "2.7.13"
  }
 },
 "nbformat": 4,
 "nbformat_minor": 2
}
