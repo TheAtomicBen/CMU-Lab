{
 "cells": [
  {
   "cell_type": "code",
   "execution_count": 1,
   "metadata": {
    "collapsed": true
   },
   "outputs": [],
   "source": [
    "%matplotlib inline\n",
    "# %pylab\n",
    "\n",
    "from __future__ import division\n",
    "\n",
    "import pandas as pd\n",
    "import numpy as np\n",
    "\n",
    "from itertools import izip\n",
    "\n",
    "import matplotlib\n",
    "import matplotlib.pyplot as plt\n",
    "\n",
    "matplotlib.use\n",
    "plt.style.use('seaborn-poster')"
   ]
  },
  {
   "cell_type": "code",
   "execution_count": 34,
   "metadata": {
    "collapsed": true
   },
   "outputs": [],
   "source": [
    "MAINDIR = '/Users/benjaminlibman/Google Drive/Academics/CMU/Lab/Research/Unobserving/Data/'\n",
    "RAW = MAINDIR + 'MedPC-Data/'\n",
    "RF = MAINDIR + 'RF/Exp 3/'\n",
    "RF2 = MAINDIR + 'RF2/'\n",
    "SUMS = MAINDIR + 'Sums/'\n",
    "SRVR = MAINDIR + 'Survivors/'"
   ]
  },
  {
   "cell_type": "code",
   "execution_count": 35,
   "metadata": {},
   "outputs": [
    {
     "data": {
      "text/plain": [
       "'\\nevent key:\\n100 - BO Left\\n110 - BO Right\\n120 - FR Left\\n130 - FR Right\\n200 - Pellet\\n300 - Start FR\\n400 - Start BO\\n410 - End BO\\n'"
      ]
     },
     "execution_count": 35,
     "metadata": {},
     "output_type": "execute_result"
    }
   ],
   "source": [
    "'''\n",
    "event key:\n",
    "100 - BO Left\n",
    "110 - BO Right\n",
    "120 - FR Left\n",
    "130 - FR Right\n",
    "200 - Pellet\n",
    "300 - Start FR\n",
    "400 - Start BO\n",
    "410 - End BO\n",
    "'''\n",
    "# print(plt.style.available)"
   ]
  },
  {
   "cell_type": "code",
   "execution_count": 58,
   "metadata": {
    "collapsed": true
   },
   "outputs": [],
   "source": [
    "rats = ['BA1655', 'BA1656', 'BA1657', 'BA1658']\n",
    "\n",
    "dset = pd.read_csv(RF + rats[1] + '.csv', sep=',', header=0)\n"
   ]
  },
  {
   "cell_type": "code",
   "execution_count": 67,
   "metadata": {},
   "outputs": [
    {
     "data": {
      "text/html": [
       "<div>\n",
       "<style>\n",
       "    .dataframe thead tr:only-child th {\n",
       "        text-align: right;\n",
       "    }\n",
       "\n",
       "    .dataframe thead th {\n",
       "        text-align: left;\n",
       "    }\n",
       "\n",
       "    .dataframe tbody tr th {\n",
       "        vertical-align: top;\n",
       "    }\n",
       "</style>\n",
       "<table border=\"1\" class=\"dataframe\">\n",
       "  <thead>\n",
       "    <tr style=\"text-align: right;\">\n",
       "      <th></th>\n",
       "      <th>date</th>\n",
       "      <th>subject</th>\n",
       "      <th>frval</th>\n",
       "      <th>runnum</th>\n",
       "      <th>trial</th>\n",
       "      <th>trial2</th>\n",
       "      <th>frpointer</th>\n",
       "      <th>frpointerB</th>\n",
       "      <th>borpointer</th>\n",
       "      <th>borpointer2</th>\n",
       "      <th>bolpointer</th>\n",
       "      <th>time</th>\n",
       "      <th>fr_irt</th>\n",
       "      <th>prp</th>\n",
       "      <th>fr_prp</th>\n",
       "      <th>uo_prp</th>\n",
       "      <th>event</th>\n",
       "    </tr>\n",
       "  </thead>\n",
       "  <tbody>\n",
       "    <tr>\n",
       "      <th>0</th>\n",
       "      <td>12/11/17</td>\n",
       "      <td>BA1656</td>\n",
       "      <td>0</td>\n",
       "      <td>1</td>\n",
       "      <td>0</td>\n",
       "      <td>0</td>\n",
       "      <td>0</td>\n",
       "      <td>0</td>\n",
       "      <td>0</td>\n",
       "      <td>0</td>\n",
       "      <td>0</td>\n",
       "      <td>0.00</td>\n",
       "      <td>0.00</td>\n",
       "      <td>0.0</td>\n",
       "      <td>0.0</td>\n",
       "      <td>0.0</td>\n",
       "      <td>300</td>\n",
       "    </tr>\n",
       "    <tr>\n",
       "      <th>26</th>\n",
       "      <td>12/11/17</td>\n",
       "      <td>BA1656</td>\n",
       "      <td>0</td>\n",
       "      <td>1</td>\n",
       "      <td>0</td>\n",
       "      <td>0</td>\n",
       "      <td>-1</td>\n",
       "      <td>-1</td>\n",
       "      <td>0</td>\n",
       "      <td>0</td>\n",
       "      <td>0</td>\n",
       "      <td>21.57</td>\n",
       "      <td>0.00</td>\n",
       "      <td>0.0</td>\n",
       "      <td>0.0</td>\n",
       "      <td>0.0</td>\n",
       "      <td>200</td>\n",
       "    </tr>\n",
       "    <tr>\n",
       "      <th>27</th>\n",
       "      <td>12/11/17</td>\n",
       "      <td>BA1656</td>\n",
       "      <td>0</td>\n",
       "      <td>1</td>\n",
       "      <td>0</td>\n",
       "      <td>0</td>\n",
       "      <td>0</td>\n",
       "      <td>0</td>\n",
       "      <td>0</td>\n",
       "      <td>0</td>\n",
       "      <td>0</td>\n",
       "      <td>23.62</td>\n",
       "      <td>2.05</td>\n",
       "      <td>0.0</td>\n",
       "      <td>0.0</td>\n",
       "      <td>0.0</td>\n",
       "      <td>300</td>\n",
       "    </tr>\n",
       "    <tr>\n",
       "      <th>78</th>\n",
       "      <td>12/11/17</td>\n",
       "      <td>BA1656</td>\n",
       "      <td>0</td>\n",
       "      <td>1</td>\n",
       "      <td>0</td>\n",
       "      <td>0</td>\n",
       "      <td>-1</td>\n",
       "      <td>-1</td>\n",
       "      <td>0</td>\n",
       "      <td>0</td>\n",
       "      <td>0</td>\n",
       "      <td>60.75</td>\n",
       "      <td>0.00</td>\n",
       "      <td>0.0</td>\n",
       "      <td>0.0</td>\n",
       "      <td>0.0</td>\n",
       "      <td>200</td>\n",
       "    </tr>\n",
       "    <tr>\n",
       "      <th>79</th>\n",
       "      <td>12/11/17</td>\n",
       "      <td>BA1656</td>\n",
       "      <td>0</td>\n",
       "      <td>1</td>\n",
       "      <td>0</td>\n",
       "      <td>0</td>\n",
       "      <td>0</td>\n",
       "      <td>0</td>\n",
       "      <td>0</td>\n",
       "      <td>0</td>\n",
       "      <td>0</td>\n",
       "      <td>62.80</td>\n",
       "      <td>2.05</td>\n",
       "      <td>0.0</td>\n",
       "      <td>0.0</td>\n",
       "      <td>0.0</td>\n",
       "      <td>300</td>\n",
       "    </tr>\n",
       "  </tbody>\n",
       "</table>\n",
       "</div>"
      ],
      "text/plain": [
       "        date subject  frval  runnum  trial  trial2  frpointer  frpointerB  \\\n",
       "0   12/11/17  BA1656      0       1      0       0          0           0   \n",
       "26  12/11/17  BA1656      0       1      0       0         -1          -1   \n",
       "27  12/11/17  BA1656      0       1      0       0          0           0   \n",
       "78  12/11/17  BA1656      0       1      0       0         -1          -1   \n",
       "79  12/11/17  BA1656      0       1      0       0          0           0   \n",
       "\n",
       "    borpointer  borpointer2  bolpointer   time  fr_irt  prp  fr_prp  uo_prp  \\\n",
       "0            0            0           0   0.00    0.00  0.0     0.0     0.0   \n",
       "26           0            0           0  21.57    0.00  0.0     0.0     0.0   \n",
       "27           0            0           0  23.62    2.05  0.0     0.0     0.0   \n",
       "78           0            0           0  60.75    0.00  0.0     0.0     0.0   \n",
       "79           0            0           0  62.80    2.05  0.0     0.0     0.0   \n",
       "\n",
       "    event  \n",
       "0     300  \n",
       "26    200  \n",
       "27    300  \n",
       "78    200  \n",
       "79    300  "
      ]
     },
     "execution_count": 67,
     "metadata": {},
     "output_type": "execute_result"
    }
   ],
   "source": [
    "dset[dset.frval == 0].head()"
   ]
  },
  {
   "cell_type": "code",
   "execution_count": 68,
   "metadata": {},
   "outputs": [],
   "source": [
    "unstacked = dset.unstack()"
   ]
  },
  {
   "cell_type": "code",
   "execution_count": 69,
   "metadata": {},
   "outputs": [],
   "source": [
    "us = pd.DataFrame(unstacked)\n",
    "# us.to_csv(RF + 'BA1655TEST.csv')"
   ]
  },
  {
   "cell_type": "code",
   "execution_count": 179,
   "metadata": {
    "scrolled": false
   },
   "outputs": [
    {
     "ename": "TypeError",
     "evalue": "unhashable type: 'list'",
     "output_type": "error",
     "traceback": [
      "\u001b[0;31m---------------------------------------------------------------------------\u001b[0m",
      "\u001b[0;31mTypeError\u001b[0m                                 Traceback (most recent call last)",
      "\u001b[0;32m<ipython-input-179-0373fabf9821>\u001b[0m in \u001b[0;36m<module>\u001b[0;34m()\u001b[0m\n\u001b[1;32m     32\u001b[0m         \u001b[0mdates\u001b[0m\u001b[0;34m.\u001b[0m\u001b[0mappend\u001b[0m\u001b[0;34m(\u001b[0m\u001b[0md\u001b[0m\u001b[0;34m)\u001b[0m\u001b[0;34m\u001b[0m\u001b[0m\n\u001b[1;32m     33\u001b[0m \u001b[0;34m\u001b[0m\u001b[0m\n\u001b[0;32m---> 34\u001b[0;31m         \u001b[0mmainData\u001b[0m\u001b[0;34m[\u001b[0m\u001b[0mset\u001b[0m\u001b[0;34m(\u001b[0m\u001b[0mdates\u001b[0m\u001b[0;34m)\u001b[0m\u001b[0;34m]\u001b[0m \u001b[0;34m=\u001b[0m \u001b[0;34m[\u001b[0m\u001b[0mtoi\u001b[0m\u001b[0;34m,\u001b[0m \u001b[0mfr\u001b[0m\u001b[0;34m,\u001b[0m \u001b[0mtime\u001b[0m\u001b[0;34m]\u001b[0m\u001b[0;34m\u001b[0m\u001b[0m\n\u001b[0m\u001b[1;32m     35\u001b[0m \u001b[0;34m\u001b[0m\u001b[0m\n\u001b[1;32m     36\u001b[0m \u001b[0;34m\u001b[0m\u001b[0m\n",
      "\u001b[0;31mTypeError\u001b[0m: unhashable type: 'list'"
     ]
    }
   ],
   "source": [
    "mainData = {}\n",
    "toi = []\n",
    "fr = []\n",
    "time = []\n",
    "dates = []\n",
    "\n",
    "for date, run in zip(set(dset.date), set(dset.runnum)):\n",
    "    for ratio in sorted(set(dset.frval[dset.frval > 0])):\n",
    "        thisRun = run\n",
    "        data = dset[dset.runnum == thisRun]    \n",
    "        \n",
    "        to = []\n",
    "        f = []\n",
    "        t = []\n",
    "        d = []\n",
    "        \n",
    "        for i, j, k in zip(data.time, data.frval, data.date):\n",
    "            to.append(0)\n",
    "            t.append(i)\n",
    "            f.append(j)\n",
    "            d.append(k)\n",
    "        \n",
    "\n",
    "        \n",
    "        for i, (k, l) in zip(data.event, enumerate(to)):\n",
    "            if i == 400:\n",
    "                to[k] = 1\n",
    "\n",
    "        toi.append(to)\n",
    "        fr.append(f)\n",
    "        time.append(t)\n",
    "        dates.append(d)\n",
    "        \n",
    "        mainData[set(dates)] = [toi, fr, time]\n",
    "\n",
    "\n",
    "        \n",
    "# toi = pd.DataFrame(data=toi.values(), columns=toi.keys())\n",
    "\n",
    "# fr = pd.DataFrame(fr)\n",
    "# time = pd.DataFrame(tim)\n",
    "# dates = pd.DataFrame(dates)\n",
    "# print len(toi), len(fr), len(time), len(dates)\n",
    "# surv = pd.Series(data=[toi, fr, time, dates])\n",
    "# surv = pd.DataFrame(surv)\n",
    "# surv.head()\n",
    "\n"
   ]
  },
  {
   "cell_type": "code",
   "execution_count": 173,
   "metadata": {},
   "outputs": [
    {
     "data": {
      "text/plain": [
       "(1, 1)"
      ]
     },
     "execution_count": 173,
     "metadata": {},
     "output_type": "execute_result"
    }
   ],
   "source": [
    "np.shape(toi)"
   ]
  },
  {
   "cell_type": "code",
   "execution_count": 82,
   "metadata": {},
   "outputs": [
    {
     "data": {
      "text/html": [
       "<div>\n",
       "<style>\n",
       "    .dataframe thead tr:only-child th {\n",
       "        text-align: right;\n",
       "    }\n",
       "\n",
       "    .dataframe thead th {\n",
       "        text-align: left;\n",
       "    }\n",
       "\n",
       "    .dataframe tbody tr th {\n",
       "        vertical-align: top;\n",
       "    }\n",
       "</style>\n",
       "<table border=\"1\" class=\"dataframe\">\n",
       "  <thead>\n",
       "    <tr style=\"text-align: right;\">\n",
       "      <th></th>\n",
       "      <th>0</th>\n",
       "    </tr>\n",
       "  </thead>\n",
       "  <tbody>\n",
       "    <tr>\n",
       "      <th>0</th>\n",
       "      <td>[[0, 0, 0, 0, 0, 0, 0, 0, 0, 0, 0, 0, 0, 0, 0,...</td>\n",
       "    </tr>\n",
       "    <tr>\n",
       "      <th>1</th>\n",
       "      <td>[[0, 25, 25, 25, 25, 25, 25, 25, 25, 25, 25, 2...</td>\n",
       "    </tr>\n",
       "    <tr>\n",
       "      <th>2</th>\n",
       "      <td>[[0.0, 4.62, 6.11, 6.33, 7.18, 7.79, 8.42, 9.6...</td>\n",
       "    </tr>\n",
       "  </tbody>\n",
       "</table>\n",
       "</div>"
      ],
      "text/plain": [
       "                                                   0\n",
       "0  [[0, 0, 0, 0, 0, 0, 0, 0, 0, 0, 0, 0, 0, 0, 0,...\n",
       "1  [[0, 25, 25, 25, 25, 25, 25, 25, 25, 25, 25, 2...\n",
       "2  [[0.0, 4.62, 6.11, 6.33, 7.18, 7.79, 8.42, 9.6..."
      ]
     },
     "execution_count": 82,
     "metadata": {},
     "output_type": "execute_result"
    }
   ],
   "source": []
  },
  {
   "cell_type": "code",
   "execution_count": null,
   "metadata": {
    "collapsed": true
   },
   "outputs": [],
   "source": []
  }
 ],
 "metadata": {
  "kernelspec": {
   "display_name": "Python 2",
   "language": "python",
   "name": "python2"
  },
  "language_info": {
   "codemirror_mode": {
    "name": "ipython",
    "version": 2
   },
   "file_extension": ".py",
   "mimetype": "text/x-python",
   "name": "python",
   "nbconvert_exporter": "python",
   "pygments_lexer": "ipython2",
   "version": "2.7.13"
  }
 },
 "nbformat": 4,
 "nbformat_minor": 2
}
