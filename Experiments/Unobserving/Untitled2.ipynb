{
 "cells": [
  {
   "cell_type": "code",
   "execution_count": 1,
   "metadata": {},
   "outputs": [],
   "source": [
    "%matplotlib inline"
   ]
  },
  {
   "cell_type": "code",
   "execution_count": 11,
   "metadata": {},
   "outputs": [],
   "source": [
    "import matplotlib.pyplot as plt\n",
    "import seaborn as sb\n",
    "import pandas as pd"
   ]
  },
  {
   "cell_type": "code",
   "execution_count": 7,
   "metadata": {},
   "outputs": [],
   "source": [
    "fpath = '/Users/benjaminlibman/Google Drive/Academics/CMU/Lab/Research/Unobserving/Data/Sums/BA1657sums-E2.csv'\n",
    "data = pd.read_csv(fpath, index_col=None)"
   ]
  },
  {
   "cell_type": "code",
   "execution_count": 8,
   "metadata": {},
   "outputs": [
    {
     "data": {
      "text/html": [
       "<div>\n",
       "<style>\n",
       "    .dataframe thead tr:only-child th {\n",
       "        text-align: right;\n",
       "    }\n",
       "\n",
       "    .dataframe thead th {\n",
       "        text-align: left;\n",
       "    }\n",
       "\n",
       "    .dataframe tbody tr th {\n",
       "        vertical-align: top;\n",
       "    }\n",
       "</style>\n",
       "<table border=\"1\" class=\"dataframe\">\n",
       "  <thead>\n",
       "    <tr style=\"text-align: right;\">\n",
       "      <th></th>\n",
       "      <th>fr</th>\n",
       "      <th>runnum</th>\n",
       "      <th>pellets</th>\n",
       "      <th>fr_irt</th>\n",
       "      <th>uor_irt</th>\n",
       "      <th>uol_irt</th>\n",
       "      <th>fr_resps</th>\n",
       "      <th>uo_resps</th>\n",
       "      <th>resps</th>\n",
       "      <th>r_SR</th>\n",
       "      <th>fr_rate</th>\n",
       "      <th>uo_total</th>\n",
       "      <th>prp</th>\n",
       "      <th>fr_prp</th>\n",
       "      <th>uo_prp</th>\n",
       "      <th>fr_total_Rate</th>\n",
       "      <th>sr_rate</th>\n",
       "      <th>iri</th>\n",
       "    </tr>\n",
       "  </thead>\n",
       "  <tbody>\n",
       "    <tr>\n",
       "      <th>0</th>\n",
       "      <td>25.0</td>\n",
       "      <td>1.0</td>\n",
       "      <td>75.0</td>\n",
       "      <td>0.670</td>\n",
       "      <td>1.78</td>\n",
       "      <td>0.000</td>\n",
       "      <td>1875.0</td>\n",
       "      <td>5.0</td>\n",
       "      <td>1880.0</td>\n",
       "      <td>25.067</td>\n",
       "      <td>93.241</td>\n",
       "      <td>3.0</td>\n",
       "      <td>19.609</td>\n",
       "      <td>19.840</td>\n",
       "      <td>13.983</td>\n",
       "      <td>42.212</td>\n",
       "      <td>3.680</td>\n",
       "      <td>16.305</td>\n",
       "    </tr>\n",
       "    <tr>\n",
       "      <th>1</th>\n",
       "      <td>50.0</td>\n",
       "      <td>2.0</td>\n",
       "      <td>50.0</td>\n",
       "      <td>0.726</td>\n",
       "      <td>0.00</td>\n",
       "      <td>211.884</td>\n",
       "      <td>2500.0</td>\n",
       "      <td>11.0</td>\n",
       "      <td>2511.0</td>\n",
       "      <td>50.220</td>\n",
       "      <td>84.274</td>\n",
       "      <td>5.0</td>\n",
       "      <td>24.109</td>\n",
       "      <td>26.428</td>\n",
       "      <td>2.304</td>\n",
       "      <td>49.600</td>\n",
       "      <td>1.685</td>\n",
       "      <td>35.598</td>\n",
       "    </tr>\n",
       "    <tr>\n",
       "      <th>2</th>\n",
       "      <td>75.0</td>\n",
       "      <td>3.0</td>\n",
       "      <td>15.0</td>\n",
       "      <td>1.328</td>\n",
       "      <td>0.00</td>\n",
       "      <td>0.000</td>\n",
       "      <td>1126.0</td>\n",
       "      <td>2.0</td>\n",
       "      <td>1128.0</td>\n",
       "      <td>75.200</td>\n",
       "      <td>45.837</td>\n",
       "      <td>2.0</td>\n",
       "      <td>221.601</td>\n",
       "      <td>249.873</td>\n",
       "      <td>9.560</td>\n",
       "      <td>12.931</td>\n",
       "      <td>0.611</td>\n",
       "      <td>98.262</td>\n",
       "    </tr>\n",
       "    <tr>\n",
       "      <th>3</th>\n",
       "      <td>100.0</td>\n",
       "      <td>4.0</td>\n",
       "      <td>18.0</td>\n",
       "      <td>0.935</td>\n",
       "      <td>0.00</td>\n",
       "      <td>0.790</td>\n",
       "      <td>1809.0</td>\n",
       "      <td>8.0</td>\n",
       "      <td>1817.0</td>\n",
       "      <td>100.944</td>\n",
       "      <td>64.832</td>\n",
       "      <td>5.0</td>\n",
       "      <td>51.006</td>\n",
       "      <td>57.212</td>\n",
       "      <td>13.767</td>\n",
       "      <td>39.951</td>\n",
       "      <td>0.645</td>\n",
       "      <td>93.010</td>\n",
       "    </tr>\n",
       "    <tr>\n",
       "      <th>4</th>\n",
       "      <td>125.0</td>\n",
       "      <td>5.0</td>\n",
       "      <td>5.0</td>\n",
       "      <td>6.165</td>\n",
       "      <td>0.00</td>\n",
       "      <td>0.000</td>\n",
       "      <td>640.0</td>\n",
       "      <td>4.0</td>\n",
       "      <td>644.0</td>\n",
       "      <td>128.800</td>\n",
       "      <td>9.824</td>\n",
       "      <td>4.0</td>\n",
       "      <td>50.465</td>\n",
       "      <td>91.067</td>\n",
       "      <td>9.863</td>\n",
       "      <td>9.147</td>\n",
       "      <td>0.077</td>\n",
       "      <td>781.758</td>\n",
       "    </tr>\n",
       "  </tbody>\n",
       "</table>\n",
       "</div>"
      ],
      "text/plain": [
       "      fr  runnum  pellets  fr_irt  uor_irt  uol_irt  fr_resps  uo_resps  \\\n",
       "0   25.0     1.0     75.0   0.670     1.78    0.000    1875.0       5.0   \n",
       "1   50.0     2.0     50.0   0.726     0.00  211.884    2500.0      11.0   \n",
       "2   75.0     3.0     15.0   1.328     0.00    0.000    1126.0       2.0   \n",
       "3  100.0     4.0     18.0   0.935     0.00    0.790    1809.0       8.0   \n",
       "4  125.0     5.0      5.0   6.165     0.00    0.000     640.0       4.0   \n",
       "\n",
       "    resps     r_SR  fr_rate  uo_total      prp   fr_prp  uo_prp  \\\n",
       "0  1880.0   25.067   93.241       3.0   19.609   19.840  13.983   \n",
       "1  2511.0   50.220   84.274       5.0   24.109   26.428   2.304   \n",
       "2  1128.0   75.200   45.837       2.0  221.601  249.873   9.560   \n",
       "3  1817.0  100.944   64.832       5.0   51.006   57.212  13.767   \n",
       "4   644.0  128.800    9.824       4.0   50.465   91.067   9.863   \n",
       "\n",
       "   fr_total_Rate  sr_rate      iri  \n",
       "0         42.212    3.680   16.305  \n",
       "1         49.600    1.685   35.598  \n",
       "2         12.931    0.611   98.262  \n",
       "3         39.951    0.645   93.010  \n",
       "4          9.147    0.077  781.758  "
      ]
     },
     "execution_count": 8,
     "metadata": {},
     "output_type": "execute_result"
    }
   ],
   "source": [
    "data.head()"
   ]
  },
  {
   "cell_type": "code",
   "execution_count": null,
   "metadata": {},
   "outputs": [],
   "source": [
    "g = sb.PairGrid(data)\n",
    "g = g.map(plt.scatter)"
   ]
  },
  {
   "cell_type": "code",
   "execution_count": 19,
   "metadata": {},
   "outputs": [
    {
     "data": {
      "text/plain": [
       "<seaborn.axisgrid.PairGrid at 0x1a45822850>"
      ]
     },
     "execution_count": 19,
     "metadata": {},
     "output_type": "execute_result"
    }
   ],
   "source": [
    "g"
   ]
  },
  {
   "cell_type": "code",
   "execution_count": null,
   "metadata": {},
   "outputs": [],
   "source": []
  }
 ],
 "metadata": {
  "kernelspec": {
   "display_name": "Python 2",
   "language": "python",
   "name": "python2"
  },
  "language_info": {
   "codemirror_mode": {
    "name": "ipython",
    "version": 2
   },
   "file_extension": ".py",
   "mimetype": "text/x-python",
   "name": "python",
   "nbconvert_exporter": "python",
   "pygments_lexer": "ipython2",
   "version": "2.7.13"
  }
 },
 "nbformat": 4,
 "nbformat_minor": 2
}
